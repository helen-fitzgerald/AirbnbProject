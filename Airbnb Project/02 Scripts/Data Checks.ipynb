{
 "cells": [
  {
   "cell_type": "markdown",
   "id": "1bab8cdb-8f8c-4a91-8da6-306d5667793f",
   "metadata": {},
   "source": [
    "## Importing libraries and files"
   ]
  },
  {
   "cell_type": "code",
   "execution_count": 45,
   "id": "3797bdc4-669c-41df-ba9a-1e1dbdb385fd",
   "metadata": {},
   "outputs": [],
   "source": [
    "import pandas as pd\n",
    "import numpy as np\n",
    "import os\n",
    "import matplotlib.pyplot as plt"
   ]
  },
  {
   "cell_type": "code",
   "execution_count": 2,
   "id": "f1318758-c510-4ab8-9ba7-550b6031f107",
   "metadata": {},
   "outputs": [],
   "source": [
    "path = r'/Users/helen/Airbnb Project'"
   ]
  },
  {
   "cell_type": "code",
   "execution_count": 5,
   "id": "a91b9ee5-3b00-4494-9b84-911b4062ec17",
   "metadata": {},
   "outputs": [],
   "source": [
    "listings_23 = pd.read_csv(os.path.join(path, '01 Data', 'Original Data', 'June 2023', 'june_23_listings_summary.csv'), index_col = False)"
   ]
  },
  {
   "cell_type": "code",
   "execution_count": 6,
   "id": "81c9289e-297c-4b68-a9d7-a36790795fd0",
   "metadata": {},
   "outputs": [],
   "source": [
    "listings_24 = pd.read_csv(os.path.join(path, '01 Data', 'Original Data', 'March 2024', 'march_24_listings_summary.csv'), index_col = False)"
   ]
  },
  {
   "cell_type": "code",
   "execution_count": 7,
   "id": "bdcf2834-6011-4619-a376-670fad82e11a",
   "metadata": {},
   "outputs": [],
   "source": [
    "reviews_23 = pd.read_csv(os.path.join(path, '01 Data', 'Original Data', 'June 2023', 'june_23_reviews_detailed.csv'), index_col = False)"
   ]
  },
  {
   "cell_type": "code",
   "execution_count": 8,
   "id": "cc9d5594-d2c8-47d5-add1-8228a19c5fb5",
   "metadata": {},
   "outputs": [],
   "source": [
    "reviews_24 = pd.read_csv(os.path.join(path, '01 Data', 'Original Data', 'March 2024', 'march_24_reviews_detailed.csv'), index_col = False)"
   ]
  },
  {
   "cell_type": "markdown",
   "id": "409dfcab-af92-483e-8e14-959d1852d8bd",
   "metadata": {},
   "source": [
    "## Data cleaning - listings"
   ]
  },
  {
   "cell_type": "code",
   "execution_count": 36,
   "id": "fa21a8a8-41c3-4090-b63c-ab00ae4c9718",
   "metadata": {},
   "outputs": [
    {
     "data": {
      "text/html": [
       "<div>\n",
       "<style scoped>\n",
       "    .dataframe tbody tr th:only-of-type {\n",
       "        vertical-align: middle;\n",
       "    }\n",
       "\n",
       "    .dataframe tbody tr th {\n",
       "        vertical-align: top;\n",
       "    }\n",
       "\n",
       "    .dataframe thead th {\n",
       "        text-align: right;\n",
       "    }\n",
       "</style>\n",
       "<table border=\"1\" class=\"dataframe\">\n",
       "  <thead>\n",
       "    <tr style=\"text-align: right;\">\n",
       "      <th></th>\n",
       "      <th>id</th>\n",
       "      <th>name</th>\n",
       "      <th>host_id</th>\n",
       "      <th>host_name</th>\n",
       "      <th>neighbourhood</th>\n",
       "      <th>latitude</th>\n",
       "      <th>longitude</th>\n",
       "      <th>room_type</th>\n",
       "      <th>price</th>\n",
       "      <th>minimum_nights</th>\n",
       "      <th>number_of_reviews</th>\n",
       "      <th>reviews_per_month</th>\n",
       "      <th>calculated_host_listings_count</th>\n",
       "    </tr>\n",
       "  </thead>\n",
       "  <tbody>\n",
       "    <tr>\n",
       "      <th>0</th>\n",
       "      <td>44077</td>\n",
       "      <td>Bungalow in Churchtown · ★4.79 · 1 bedroom · 2...</td>\n",
       "      <td>193005</td>\n",
       "      <td>Teresa</td>\n",
       "      <td>Dn Laoghaire-Rathdown</td>\n",
       "      <td>53.29178</td>\n",
       "      <td>-6.25792</td>\n",
       "      <td>Private room</td>\n",
       "      <td>78</td>\n",
       "      <td>3</td>\n",
       "      <td>295</td>\n",
       "      <td>1.98</td>\n",
       "      <td>2</td>\n",
       "    </tr>\n",
       "    <tr>\n",
       "      <th>1</th>\n",
       "      <td>85156</td>\n",
       "      <td>Bungalow in Churchtown · ★4.81 · 1 bedroom · 1...</td>\n",
       "      <td>193005</td>\n",
       "      <td>Teresa</td>\n",
       "      <td>Dn Laoghaire-Rathdown</td>\n",
       "      <td>53.29209</td>\n",
       "      <td>-6.25624</td>\n",
       "      <td>Private room</td>\n",
       "      <td>79</td>\n",
       "      <td>3</td>\n",
       "      <td>248</td>\n",
       "      <td>1.69</td>\n",
       "      <td>2</td>\n",
       "    </tr>\n",
       "    <tr>\n",
       "      <th>2</th>\n",
       "      <td>159889</td>\n",
       "      <td>Home in Dublin · ★4.75 · 1 bedroom · 1 bed · 2...</td>\n",
       "      <td>766611</td>\n",
       "      <td>Marie</td>\n",
       "      <td>Dublin City</td>\n",
       "      <td>53.39027</td>\n",
       "      <td>-6.23547</td>\n",
       "      <td>Private room</td>\n",
       "      <td>50</td>\n",
       "      <td>3</td>\n",
       "      <td>390</td>\n",
       "      <td>2.85</td>\n",
       "      <td>3</td>\n",
       "    </tr>\n",
       "    <tr>\n",
       "      <th>3</th>\n",
       "      <td>162809</td>\n",
       "      <td>Townhouse in Dublin · ★4.84 · 2 bedrooms · 4 b...</td>\n",
       "      <td>777681</td>\n",
       "      <td>Robbie</td>\n",
       "      <td>Dn Laoghaire-Rathdown</td>\n",
       "      <td>53.28326</td>\n",
       "      <td>-6.19188</td>\n",
       "      <td>Private room</td>\n",
       "      <td>79</td>\n",
       "      <td>1</td>\n",
       "      <td>344</td>\n",
       "      <td>3.52</td>\n",
       "      <td>2</td>\n",
       "    </tr>\n",
       "    <tr>\n",
       "      <th>4</th>\n",
       "      <td>165828</td>\n",
       "      <td>Rental unit in Dublin · ★4.64 · 1 bedroom · 3 ...</td>\n",
       "      <td>790601</td>\n",
       "      <td>Grainne</td>\n",
       "      <td>Dublin City</td>\n",
       "      <td>53.33744</td>\n",
       "      <td>-6.32363</td>\n",
       "      <td>Entire home/apt</td>\n",
       "      <td>378</td>\n",
       "      <td>5</td>\n",
       "      <td>75</td>\n",
       "      <td>0.53</td>\n",
       "      <td>5</td>\n",
       "    </tr>\n",
       "  </tbody>\n",
       "</table>\n",
       "</div>"
      ],
      "text/plain": [
       "       id                                               name  host_id  \\\n",
       "0   44077  Bungalow in Churchtown · ★4.79 · 1 bedroom · 2...   193005   \n",
       "1   85156  Bungalow in Churchtown · ★4.81 · 1 bedroom · 1...   193005   \n",
       "2  159889  Home in Dublin · ★4.75 · 1 bedroom · 1 bed · 2...   766611   \n",
       "3  162809  Townhouse in Dublin · ★4.84 · 2 bedrooms · 4 b...   777681   \n",
       "4  165828  Rental unit in Dublin · ★4.64 · 1 bedroom · 3 ...   790601   \n",
       "\n",
       "  host_name          neighbourhood  latitude  longitude        room_type  \\\n",
       "0    Teresa  Dn Laoghaire-Rathdown  53.29178   -6.25792     Private room   \n",
       "1    Teresa  Dn Laoghaire-Rathdown  53.29209   -6.25624     Private room   \n",
       "2     Marie            Dublin City  53.39027   -6.23547     Private room   \n",
       "3    Robbie  Dn Laoghaire-Rathdown  53.28326   -6.19188     Private room   \n",
       "4   Grainne            Dublin City  53.33744   -6.32363  Entire home/apt   \n",
       "\n",
       "   price  minimum_nights  number_of_reviews  reviews_per_month  \\\n",
       "0     78               3                295               1.98   \n",
       "1     79               3                248               1.69   \n",
       "2     50               3                390               2.85   \n",
       "3     79               1                344               3.52   \n",
       "4    378               5                 75               0.53   \n",
       "\n",
       "   calculated_host_listings_count  \n",
       "0                               2  \n",
       "1                               2  \n",
       "2                               3  \n",
       "3                               2  \n",
       "4                               5  "
      ]
     },
     "execution_count": 36,
     "metadata": {},
     "output_type": "execute_result"
    }
   ],
   "source": [
    "listings_23.head()"
   ]
  },
  {
   "cell_type": "code",
   "execution_count": 57,
   "id": "0a0b6793-e385-4b60-b691-47d7b1a01ece",
   "metadata": {},
   "outputs": [],
   "source": [
    "#Removing unneccessary columns for efficiency/privacy reasons\n",
    "\n",
    "listings_23 = listings_23.drop(columns = ['host_name'])"
   ]
  },
  {
   "cell_type": "code",
   "execution_count": 58,
   "id": "44651fc6-fecc-449b-a9be-141bb456aa96",
   "metadata": {},
   "outputs": [],
   "source": [
    "listings_24 = listings_24.drop(columns = ['host_name'])"
   ]
  },
  {
   "cell_type": "code",
   "execution_count": 59,
   "id": "c47b603b-4f02-41fb-bc33-7f503e784551",
   "metadata": {},
   "outputs": [
    {
     "data": {
      "text/plain": [
       "id                                  int64\n",
       "name                               object\n",
       "host_id                             int64\n",
       "neighbourhood                      object\n",
       "latitude                          float64\n",
       "longitude                         float64\n",
       "room_type                          object\n",
       "price                               int64\n",
       "minimum_nights                      int64\n",
       "number_of_reviews                   int64\n",
       "calculated_host_listings_count      int64\n",
       "dtype: object"
      ]
     },
     "execution_count": 59,
     "metadata": {},
     "output_type": "execute_result"
    }
   ],
   "source": [
    "#Checking data types\n",
    "\n",
    "listings_23.dtypes"
   ]
  },
  {
   "cell_type": "code",
   "execution_count": 60,
   "id": "f6f48c12-3362-47e6-89d8-209337695365",
   "metadata": {},
   "outputs": [
    {
     "data": {
      "text/plain": [
       "id                                  int64\n",
       "name                               object\n",
       "host_id                             int64\n",
       "neighbourhood                      object\n",
       "latitude                          float64\n",
       "longitude                         float64\n",
       "room_type                          object\n",
       "price                             float64\n",
       "minimum_nights                      int64\n",
       "number_of_reviews                   int64\n",
       "calculated_host_listings_count      int64\n",
       "dtype: object"
      ]
     },
     "execution_count": 60,
     "metadata": {},
     "output_type": "execute_result"
    }
   ],
   "source": [
    "listings_24.dtypes"
   ]
  },
  {
   "cell_type": "code",
   "execution_count": 42,
   "id": "758230ba-13f4-4b05-9ed5-79cc91311182",
   "metadata": {},
   "outputs": [
    {
     "data": {
      "text/plain": [
       "id                                0\n",
       "name                              0\n",
       "host_id                           0\n",
       "host_name                         0\n",
       "neighbourhood                     0\n",
       "latitude                          0\n",
       "longitude                         0\n",
       "room_type                         0\n",
       "price                             0\n",
       "minimum_nights                    0\n",
       "number_of_reviews                 0\n",
       "calculated_host_listings_count    0\n",
       "dtype: int64"
      ]
     },
     "execution_count": 42,
     "metadata": {},
     "output_type": "execute_result"
    }
   ],
   "source": [
    "#Checking for missing values\n",
    "\n",
    "listings_23.isnull().sum()"
   ]
  },
  {
   "cell_type": "code",
   "execution_count": 43,
   "id": "86a31c10-d902-4d04-82da-4645c0035819",
   "metadata": {},
   "outputs": [
    {
     "data": {
      "text/plain": [
       "id                                   0\n",
       "name                                 0\n",
       "host_id                              0\n",
       "host_name                            8\n",
       "neighbourhood                        0\n",
       "latitude                             0\n",
       "longitude                            0\n",
       "room_type                            0\n",
       "price                             3793\n",
       "minimum_nights                       0\n",
       "number_of_reviews                    0\n",
       "calculated_host_listings_count       0\n",
       "dtype: int64"
      ]
     },
     "execution_count": 43,
     "metadata": {},
     "output_type": "execute_result"
    }
   ],
   "source": [
    "listings_24.isnull().sum()"
   ]
  },
  {
   "cell_type": "code",
   "execution_count": 51,
   "id": "b497acb6-707f-4b92-8b60-9304e84f66aa",
   "metadata": {},
   "outputs": [
    {
     "data": {
      "image/png": "[encoded data removed]",
      "text/plain": [
       "<Figure size 640x480 with 1 Axes>"
      ]
     },
     "metadata": {},
     "output_type": "display_data"
    }
   ],
   "source": [
    "#42% of pricing information is missing from the listings_24 df. Checking for skew in data\n",
    "\n",
    "skew_hist = listings_24['price'].plot.hist(bins = 500)"
   ]
  },
  {
   "cell_type": "code",
   "execution_count": 53,
   "id": "57dc650c-be0a-4406-83aa-2247f9de50bc",
   "metadata": {},
   "outputs": [],
   "source": [
    "#The data is clearly skewed, therefore missing values should be calculated using the median value of this column. Imputing these missing values.\n",
    "\n",
    "median_price_listings_24 = listings_24['price'].median()"
   ]
  },
  {
   "cell_type": "code",
   "execution_count": 54,
   "id": "b74adf45-6c4c-417b-8c6c-2ab6c0253821",
   "metadata": {},
   "outputs": [],
   "source": [
    "listings_24['price'].fillna(median_price_listings_24, inplace=True)"
   ]
  },
  {
   "cell_type": "code",
   "execution_count": 61,
   "id": "1eee5fba-97a5-47a5-ad8e-f72c3652bc24",
   "metadata": {},
   "outputs": [
    {
     "data": {
      "text/plain": [
       "id                                0\n",
       "name                              0\n",
       "host_id                           0\n",
       "neighbourhood                     0\n",
       "latitude                          0\n",
       "longitude                         0\n",
       "room_type                         0\n",
       "price                             0\n",
       "minimum_nights                    0\n",
       "number_of_reviews                 0\n",
       "calculated_host_listings_count    0\n",
       "dtype: int64"
      ]
     },
     "execution_count": 61,
     "metadata": {},
     "output_type": "execute_result"
    }
   ],
   "source": [
    "#Checking that missing values have been imputed.\n",
    "\n",
    "listings_24.isnull().sum()"
   ]
  },
  {
   "cell_type": "code",
   "execution_count": 64,
   "id": "a19d5b28-b843-4db4-b0b3-104c8a8df66b",
   "metadata": {},
   "outputs": [],
   "source": [
    "#Checking for duplicates in listings_23\n",
    "\n",
    "listings_23_dupes = listings_23[listings_23.duplicated()]"
   ]
  },
  {
   "cell_type": "code",
   "execution_count": 63,
   "id": "89ced3aa-6b60-4e15-932b-f85eaa4c8126",
   "metadata": {},
   "outputs": [
    {
     "data": {
      "text/html": [
       "<div>\n",
       "<style scoped>\n",
       "    .dataframe tbody tr th:only-of-type {\n",
       "        vertical-align: middle;\n",
       "    }\n",
       "\n",
       "    .dataframe tbody tr th {\n",
       "        vertical-align: top;\n",
       "    }\n",
       "\n",
       "    .dataframe thead th {\n",
       "        text-align: right;\n",
       "    }\n",
       "</style>\n",
       "<table border=\"1\" class=\"dataframe\">\n",
       "  <thead>\n",
       "    <tr style=\"text-align: right;\">\n",
       "      <th></th>\n",
       "      <th>id</th>\n",
       "      <th>name</th>\n",
       "      <th>host_id</th>\n",
       "      <th>neighbourhood</th>\n",
       "      <th>latitude</th>\n",
       "      <th>longitude</th>\n",
       "      <th>room_type</th>\n",
       "      <th>price</th>\n",
       "      <th>minimum_nights</th>\n",
       "      <th>number_of_reviews</th>\n",
       "      <th>calculated_host_listings_count</th>\n",
       "    </tr>\n",
       "  </thead>\n",
       "  <tbody>\n",
       "  </tbody>\n",
       "</table>\n",
       "</div>"
      ],
      "text/plain": [
       "Empty DataFrame\n",
       "Columns: [id, name, host_id, neighbourhood, latitude, longitude, room_type, price, minimum_nights, number_of_reviews, calculated_host_listings_count]\n",
       "Index: []"
      ]
     },
     "execution_count": 63,
     "metadata": {},
     "output_type": "execute_result"
    }
   ],
   "source": [
    "listings_23_dupes"
   ]
  },
  {
   "cell_type": "code",
   "execution_count": 65,
   "id": "fe749c43-491f-4300-a4e6-3e536880a5dd",
   "metadata": {},
   "outputs": [],
   "source": [
    "listings_24_dupes = listings_24[listings_24.duplicated()]"
   ]
  },
  {
   "cell_type": "code",
   "execution_count": 66,
   "id": "c319c785-2fb1-4872-9384-0b8758c9f2f0",
   "metadata": {},
   "outputs": [
    {
     "data": {
      "text/html": [
       "<div>\n",
       "<style scoped>\n",
       "    .dataframe tbody tr th:only-of-type {\n",
       "        vertical-align: middle;\n",
       "    }\n",
       "\n",
       "    .dataframe tbody tr th {\n",
       "        vertical-align: top;\n",
       "    }\n",
       "\n",
       "    .dataframe thead th {\n",
       "        text-align: right;\n",
       "    }\n",
       "</style>\n",
       "<table border=\"1\" class=\"dataframe\">\n",
       "  <thead>\n",
       "    <tr style=\"text-align: right;\">\n",
       "      <th></th>\n",
       "      <th>id</th>\n",
       "      <th>name</th>\n",
       "      <th>host_id</th>\n",
       "      <th>neighbourhood</th>\n",
       "      <th>latitude</th>\n",
       "      <th>longitude</th>\n",
       "      <th>room_type</th>\n",
       "      <th>price</th>\n",
       "      <th>minimum_nights</th>\n",
       "      <th>number_of_reviews</th>\n",
       "      <th>calculated_host_listings_count</th>\n",
       "    </tr>\n",
       "  </thead>\n",
       "  <tbody>\n",
       "  </tbody>\n",
       "</table>\n",
       "</div>"
      ],
      "text/plain": [
       "Empty DataFrame\n",
       "Columns: [id, name, host_id, neighbourhood, latitude, longitude, room_type, price, minimum_nights, number_of_reviews, calculated_host_listings_count]\n",
       "Index: []"
      ]
     },
     "execution_count": 66,
     "metadata": {},
     "output_type": "execute_result"
    }
   ],
   "source": [
    "listings_24_dupes"
   ]
  },
  {
   "cell_type": "code",
   "execution_count": 67,
   "id": "9ecc35ad-29e5-4294-afae-2221306377dc",
   "metadata": {},
   "outputs": [],
   "source": [
    "#No duplicates found."
   ]
  },
  {
   "cell_type": "markdown",
   "id": "a65b6382-35bd-49cd-beea-8f2312a1041a",
   "metadata": {},
   "source": [
    "## Data cleaning - reviews"
   ]
  },
  {
   "cell_type": "code",
   "execution_count": 19,
   "id": "5db0a221-f184-47b0-b466-76f5a5d75508",
   "metadata": {},
   "outputs": [
    {
     "data": {
      "text/html": [
       "<div>\n",
       "<style scoped>\n",
       "    .dataframe tbody tr th:only-of-type {\n",
       "        vertical-align: middle;\n",
       "    }\n",
       "\n",
       "    .dataframe tbody tr th {\n",
       "        vertical-align: top;\n",
       "    }\n",
       "\n",
       "    .dataframe thead th {\n",
       "        text-align: right;\n",
       "    }\n",
       "</style>\n",
       "<table border=\"1\" class=\"dataframe\">\n",
       "  <thead>\n",
       "    <tr style=\"text-align: right;\">\n",
       "      <th></th>\n",
       "      <th>listing_id</th>\n",
       "      <th>id</th>\n",
       "      <th>date</th>\n",
       "      <th>reviewer_id</th>\n",
       "      <th>reviewer_name</th>\n",
       "      <th>comments</th>\n",
       "    </tr>\n",
       "  </thead>\n",
       "  <tbody>\n",
       "    <tr>\n",
       "      <th>0</th>\n",
       "      <td>44077</td>\n",
       "      <td>203703</td>\n",
       "      <td>2011-03-20</td>\n",
       "      <td>393348</td>\n",
       "      <td>Christian</td>\n",
       "      <td>We enjoyed our stay very much. The room was co...</td>\n",
       "    </tr>\n",
       "    <tr>\n",
       "      <th>1</th>\n",
       "      <td>44077</td>\n",
       "      <td>211369</td>\n",
       "      <td>2011-03-28</td>\n",
       "      <td>444004</td>\n",
       "      <td>Solidea</td>\n",
       "      <td>We have been here 4 nights. Stay in a home is ...</td>\n",
       "    </tr>\n",
       "    <tr>\n",
       "      <th>2</th>\n",
       "      <td>44077</td>\n",
       "      <td>234215</td>\n",
       "      <td>2011-04-21</td>\n",
       "      <td>465058</td>\n",
       "      <td>Michael And Isabelle</td>\n",
       "      <td>Teresa and Hughie were great hosts. They were ...</td>\n",
       "    </tr>\n",
       "    <tr>\n",
       "      <th>3</th>\n",
       "      <td>44077</td>\n",
       "      <td>261843</td>\n",
       "      <td>2011-05-13</td>\n",
       "      <td>490005</td>\n",
       "      <td>Weston</td>\n",
       "      <td>No surprises, was as described.  Very gracious...</td>\n",
       "    </tr>\n",
       "    <tr>\n",
       "      <th>4</th>\n",
       "      <td>44077</td>\n",
       "      <td>268148</td>\n",
       "      <td>2011-05-17</td>\n",
       "      <td>520460</td>\n",
       "      <td>Barbara</td>\n",
       "      <td>Teresa was a lovely hostess, and we had a deli...</td>\n",
       "    </tr>\n",
       "  </tbody>\n",
       "</table>\n",
       "</div>"
      ],
      "text/plain": [
       "   listing_id      id        date  reviewer_id         reviewer_name  \\\n",
       "0       44077  203703  2011-03-20       393348             Christian   \n",
       "1       44077  211369  2011-03-28       444004               Solidea   \n",
       "2       44077  234215  2011-04-21       465058  Michael And Isabelle   \n",
       "3       44077  261843  2011-05-13       490005                Weston   \n",
       "4       44077  268148  2011-05-17       520460               Barbara   \n",
       "\n",
       "                                            comments  \n",
       "0  We enjoyed our stay very much. The room was co...  \n",
       "1  We have been here 4 nights. Stay in a home is ...  \n",
       "2  Teresa and Hughie were great hosts. They were ...  \n",
       "3  No surprises, was as described.  Very gracious...  \n",
       "4  Teresa was a lovely hostess, and we had a deli...  "
      ]
     },
     "execution_count": 19,
     "metadata": {},
     "output_type": "execute_result"
    }
   ],
   "source": [
    "reviews_23.head()"
   ]
  },
  {
   "cell_type": "code",
   "execution_count": 70,
   "id": "62340b91-76c5-4952-a6b1-b3d5d3639938",
   "metadata": {},
   "outputs": [],
   "source": [
    "#Removing 'reviewer_name' column for data protection reasons.\n",
    "\n",
    "reviews_23 = reviews_23.drop(columns = ['reviewer_name'])"
   ]
  },
  {
   "cell_type": "code",
   "execution_count": 71,
   "id": "7d3105ce-2032-4050-ab5b-33a39e14e1f8",
   "metadata": {},
   "outputs": [],
   "source": [
    "reviews_24 = reviews_24.drop(columns = ['reviewer_name'])"
   ]
  },
  {
   "cell_type": "code",
   "execution_count": 72,
   "id": "d416796e-59bc-4867-a8dd-a1fcd25e7269",
   "metadata": {},
   "outputs": [
    {
     "data": {
      "text/plain": [
       "listing_id      int64\n",
       "id              int64\n",
       "date           object\n",
       "reviewer_id     int64\n",
       "comments       object\n",
       "dtype: object"
      ]
     },
     "execution_count": 72,
     "metadata": {},
     "output_type": "execute_result"
    }
   ],
   "source": [
    "#Checking data types\n",
    "\n",
    "reviews_23.dtypes"
   ]
  },
  {
   "cell_type": "code",
   "execution_count": 73,
   "id": "e0e826e8-dc75-4141-b093-e712d0987897",
   "metadata": {},
   "outputs": [
    {
     "data": {
      "text/plain": [
       "listing_id      int64\n",
       "id              int64\n",
       "date           object\n",
       "reviewer_id     int64\n",
       "comments       object\n",
       "dtype: object"
      ]
     },
     "execution_count": 73,
     "metadata": {},
     "output_type": "execute_result"
    }
   ],
   "source": [
    "reviews_24.dtypes"
   ]
  },
  {
   "cell_type": "code",
   "execution_count": 74,
   "id": "09f0eb73-23ae-4572-9c18-9f065127937a",
   "metadata": {},
   "outputs": [
    {
     "data": {
      "text/plain": [
       "listing_id      0\n",
       "id              0\n",
       "date            0\n",
       "reviewer_id     0\n",
       "comments       26\n",
       "dtype: int64"
      ]
     },
     "execution_count": 74,
     "metadata": {},
     "output_type": "execute_result"
    }
   ],
   "source": [
    "#Checking for missing values\n",
    "\n",
    "reviews_23.isnull().sum()"
   ]
  },
  {
   "cell_type": "code",
   "execution_count": 76,
   "id": "56a5b857-2b5f-4e61-b77b-03e0abd828eb",
   "metadata": {},
   "outputs": [],
   "source": [
    "#There are 26 observations that are missing 'comments'. As this is the key column neccessary in order to perform any sentiment or\n",
    "#textual analysis, these 26 rows will be removed.\n",
    "\n",
    "reviews_23.dropna(subset = ['comments'], inplace = True)"
   ]
  },
  {
   "cell_type": "code",
   "execution_count": 78,
   "id": "47ad553c-d6a0-4eff-aa2c-039b0c9e0017",
   "metadata": {},
   "outputs": [
    {
     "data": {
      "text/plain": [
       "listing_id      0\n",
       "id              0\n",
       "date            0\n",
       "reviewer_id     0\n",
       "comments       30\n",
       "dtype: int64"
      ]
     },
     "execution_count": 78,
     "metadata": {},
     "output_type": "execute_result"
    }
   ],
   "source": [
    "#Checking for missing values in reviews_24\n",
    "reviews_24.isnull().sum()"
   ]
  },
  {
   "cell_type": "code",
   "execution_count": 79,
   "id": "971ef23e-995f-4516-bd9c-f4202c31c84c",
   "metadata": {},
   "outputs": [],
   "source": [
    "#There are 30 observations that are missing 'comments'. As this is the key column neccessary in order to perform any sentiment or\n",
    "#textual analysis, these 30 rows will be removed.\n",
    "\n",
    "reviews_24.dropna(subset = ['comments'], inplace = True)"
   ]
  },
  {
   "cell_type": "code",
   "execution_count": 81,
   "id": "5a5b5892-7582-4032-b9c0-e7c00ce82cb6",
   "metadata": {},
   "outputs": [],
   "source": [
    "#Checking for duplicates in reviews_23\n",
    "\n",
    "reviews_23_dupes = reviews_23[reviews_23.duplicated()]"
   ]
  },
  {
   "cell_type": "code",
   "execution_count": 82,
   "id": "46fa86b6-fbb3-4b31-9312-2bbfa15fa48e",
   "metadata": {},
   "outputs": [
    {
     "data": {
      "text/html": [
       "<div>\n",
       "<style scoped>\n",
       "    .dataframe tbody tr th:only-of-type {\n",
       "        vertical-align: middle;\n",
       "    }\n",
       "\n",
       "    .dataframe tbody tr th {\n",
       "        vertical-align: top;\n",
       "    }\n",
       "\n",
       "    .dataframe thead th {\n",
       "        text-align: right;\n",
       "    }\n",
       "</style>\n",
       "<table border=\"1\" class=\"dataframe\">\n",
       "  <thead>\n",
       "    <tr style=\"text-align: right;\">\n",
       "      <th></th>\n",
       "      <th>listing_id</th>\n",
       "      <th>id</th>\n",
       "      <th>date</th>\n",
       "      <th>reviewer_id</th>\n",
       "      <th>comments</th>\n",
       "    </tr>\n",
       "  </thead>\n",
       "  <tbody>\n",
       "  </tbody>\n",
       "</table>\n",
       "</div>"
      ],
      "text/plain": [
       "Empty DataFrame\n",
       "Columns: [listing_id, id, date, reviewer_id, comments]\n",
       "Index: []"
      ]
     },
     "execution_count": 82,
     "metadata": {},
     "output_type": "execute_result"
    }
   ],
   "source": [
    "reviews_23_dupes"
   ]
  },
  {
   "cell_type": "code",
   "execution_count": 83,
   "id": "f8bf01e3-c67f-439b-acdc-e8cd8b2f0821",
   "metadata": {},
   "outputs": [],
   "source": [
    "#Checking for duplicates in reviews_24\n",
    "\n",
    "reviews_24_dupes = reviews_24[reviews_24.duplicated()]"
   ]
  },
  {
   "cell_type": "markdown",
   "id": "388eec4b-3460-404e-a767-2fe07681d1ec",
   "metadata": {},
   "source": [
    "## Statistical analysis - listings"
   ]
  },
  {
   "cell_type": "code",
   "execution_count": 85,
   "id": "7884dcb3-af35-416f-a30d-7506508787c8",
   "metadata": {},
   "outputs": [
    {
     "data": {
      "text/html": [
       "<div>\n",
       "<style scoped>\n",
       "    .dataframe tbody tr th:only-of-type {\n",
       "        vertical-align: middle;\n",
       "    }\n",
       "\n",
       "    .dataframe tbody tr th {\n",
       "        vertical-align: top;\n",
       "    }\n",
       "\n",
       "    .dataframe thead th {\n",
       "        text-align: right;\n",
       "    }\n",
       "</style>\n",
       "<table border=\"1\" class=\"dataframe\">\n",
       "  <thead>\n",
       "    <tr style=\"text-align: right;\">\n",
       "      <th></th>\n",
       "      <th>id</th>\n",
       "      <th>host_id</th>\n",
       "      <th>latitude</th>\n",
       "      <th>longitude</th>\n",
       "      <th>price</th>\n",
       "      <th>minimum_nights</th>\n",
       "      <th>number_of_reviews</th>\n",
       "      <th>calculated_host_listings_count</th>\n",
       "    </tr>\n",
       "  </thead>\n",
       "  <tbody>\n",
       "    <tr>\n",
       "      <th>count</th>\n",
       "      <td>8.440000e+03</td>\n",
       "      <td>8.440000e+03</td>\n",
       "      <td>8440.000000</td>\n",
       "      <td>8440.000000</td>\n",
       "      <td>8440.000000</td>\n",
       "      <td>8440.000000</td>\n",
       "      <td>8440.000000</td>\n",
       "      <td>8440.000000</td>\n",
       "    </tr>\n",
       "    <tr>\n",
       "      <th>mean</th>\n",
       "      <td>2.733412e+17</td>\n",
       "      <td>1.395853e+08</td>\n",
       "      <td>53.345449</td>\n",
       "      <td>-6.255111</td>\n",
       "      <td>181.120498</td>\n",
       "      <td>6.184716</td>\n",
       "      <td>31.159005</td>\n",
       "      <td>5.366588</td>\n",
       "    </tr>\n",
       "    <tr>\n",
       "      <th>std</th>\n",
       "      <td>3.738527e+17</td>\n",
       "      <td>1.507540e+08</td>\n",
       "      <td>0.046388</td>\n",
       "      <td>0.062639</td>\n",
       "      <td>562.541185</td>\n",
       "      <td>29.167667</td>\n",
       "      <td>68.372446</td>\n",
       "      <td>12.511049</td>\n",
       "    </tr>\n",
       "    <tr>\n",
       "      <th>min</th>\n",
       "      <td>4.407700e+04</td>\n",
       "      <td>4.398400e+04</td>\n",
       "      <td>53.207663</td>\n",
       "      <td>-6.497588</td>\n",
       "      <td>9.000000</td>\n",
       "      <td>1.000000</td>\n",
       "      <td>0.000000</td>\n",
       "      <td>1.000000</td>\n",
       "    </tr>\n",
       "    <tr>\n",
       "      <th>25%</th>\n",
       "      <td>1.933922e+07</td>\n",
       "      <td>2.754379e+07</td>\n",
       "      <td>53.327961</td>\n",
       "      <td>-6.278417</td>\n",
       "      <td>70.000000</td>\n",
       "      <td>1.000000</td>\n",
       "      <td>1.000000</td>\n",
       "      <td>1.000000</td>\n",
       "    </tr>\n",
       "    <tr>\n",
       "      <th>50%</th>\n",
       "      <td>3.598778e+07</td>\n",
       "      <td>7.335573e+07</td>\n",
       "      <td>53.344160</td>\n",
       "      <td>-6.259215</td>\n",
       "      <td>115.000000</td>\n",
       "      <td>2.000000</td>\n",
       "      <td>6.000000</td>\n",
       "      <td>1.000000</td>\n",
       "    </tr>\n",
       "    <tr>\n",
       "      <th>75%</th>\n",
       "      <td>6.970116e+17</td>\n",
       "      <td>2.029741e+08</td>\n",
       "      <td>53.357097</td>\n",
       "      <td>-6.233293</td>\n",
       "      <td>200.000000</td>\n",
       "      <td>4.000000</td>\n",
       "      <td>27.000000</td>\n",
       "      <td>3.000000</td>\n",
       "    </tr>\n",
       "    <tr>\n",
       "      <th>max</th>\n",
       "      <td>9.101728e+17</td>\n",
       "      <td>5.191105e+08</td>\n",
       "      <td>53.623490</td>\n",
       "      <td>-6.052910</td>\n",
       "      <td>46513.000000</td>\n",
       "      <td>1125.000000</td>\n",
       "      <td>1218.000000</td>\n",
       "      <td>76.000000</td>\n",
       "    </tr>\n",
       "  </tbody>\n",
       "</table>\n",
       "</div>"
      ],
      "text/plain": [
       "                 id       host_id     latitude    longitude         price  \\\n",
       "count  8.440000e+03  8.440000e+03  8440.000000  8440.000000   8440.000000   \n",
       "mean   2.733412e+17  1.395853e+08    53.345449    -6.255111    181.120498   \n",
       "std    3.738527e+17  1.507540e+08     0.046388     0.062639    562.541185   \n",
       "min    4.407700e+04  4.398400e+04    53.207663    -6.497588      9.000000   \n",
       "25%    1.933922e+07  2.754379e+07    53.327961    -6.278417     70.000000   \n",
       "50%    3.598778e+07  7.335573e+07    53.344160    -6.259215    115.000000   \n",
       "75%    6.970116e+17  2.029741e+08    53.357097    -6.233293    200.000000   \n",
       "max    9.101728e+17  5.191105e+08    53.623490    -6.052910  46513.000000   \n",
       "\n",
       "       minimum_nights  number_of_reviews  calculated_host_listings_count  \n",
       "count     8440.000000        8440.000000                     8440.000000  \n",
       "mean         6.184716          31.159005                        5.366588  \n",
       "std         29.167667          68.372446                       12.511049  \n",
       "min          1.000000           0.000000                        1.000000  \n",
       "25%          1.000000           1.000000                        1.000000  \n",
       "50%          2.000000           6.000000                        1.000000  \n",
       "75%          4.000000          27.000000                        3.000000  \n",
       "max       1125.000000        1218.000000                       76.000000  "
      ]
     },
     "execution_count": 85,
     "metadata": {},
     "output_type": "execute_result"
    }
   ],
   "source": [
    "listings_23.describe()"
   ]
  },
  {
   "cell_type": "code",
   "execution_count": 86,
   "id": "adf05809-409d-4211-946a-7608dcf0a91e",
   "metadata": {},
   "outputs": [
    {
     "data": {
      "text/html": [
       "<div>\n",
       "<style scoped>\n",
       "    .dataframe tbody tr th:only-of-type {\n",
       "        vertical-align: middle;\n",
       "    }\n",
       "\n",
       "    .dataframe tbody tr th {\n",
       "        vertical-align: top;\n",
       "    }\n",
       "\n",
       "    .dataframe thead th {\n",
       "        text-align: right;\n",
       "    }\n",
       "</style>\n",
       "<table border=\"1\" class=\"dataframe\">\n",
       "  <thead>\n",
       "    <tr style=\"text-align: right;\">\n",
       "      <th></th>\n",
       "      <th>id</th>\n",
       "      <th>host_id</th>\n",
       "      <th>latitude</th>\n",
       "      <th>longitude</th>\n",
       "      <th>price</th>\n",
       "      <th>minimum_nights</th>\n",
       "      <th>number_of_reviews</th>\n",
       "      <th>calculated_host_listings_count</th>\n",
       "    </tr>\n",
       "  </thead>\n",
       "  <tbody>\n",
       "    <tr>\n",
       "      <th>count</th>\n",
       "      <td>9.020000e+03</td>\n",
       "      <td>9.020000e+03</td>\n",
       "      <td>9020.000000</td>\n",
       "      <td>9020.000000</td>\n",
       "      <td>9020.000000</td>\n",
       "      <td>9020.000000</td>\n",
       "      <td>9020.000000</td>\n",
       "      <td>9020.000000</td>\n",
       "    </tr>\n",
       "    <tr>\n",
       "      <th>mean</th>\n",
       "      <td>3.534469e+17</td>\n",
       "      <td>1.541454e+08</td>\n",
       "      <td>53.345827</td>\n",
       "      <td>-6.255699</td>\n",
       "      <td>168.425831</td>\n",
       "      <td>6.250000</td>\n",
       "      <td>32.381596</td>\n",
       "      <td>6.209091</td>\n",
       "    </tr>\n",
       "    <tr>\n",
       "      <th>std</th>\n",
       "      <td>4.264895e+17</td>\n",
       "      <td>1.646165e+08</td>\n",
       "      <td>0.046197</td>\n",
       "      <td>0.063016</td>\n",
       "      <td>553.539762</td>\n",
       "      <td>30.776392</td>\n",
       "      <td>72.620441</td>\n",
       "      <td>14.600766</td>\n",
       "    </tr>\n",
       "    <tr>\n",
       "      <th>min</th>\n",
       "      <td>1.484200e+04</td>\n",
       "      <td>4.398400e+04</td>\n",
       "      <td>53.207663</td>\n",
       "      <td>-6.498946</td>\n",
       "      <td>15.000000</td>\n",
       "      <td>1.000000</td>\n",
       "      <td>0.000000</td>\n",
       "      <td>1.000000</td>\n",
       "    </tr>\n",
       "    <tr>\n",
       "      <th>25%</th>\n",
       "      <td>2.038340e+07</td>\n",
       "      <td>2.959183e+07</td>\n",
       "      <td>53.327808</td>\n",
       "      <td>-6.278165</td>\n",
       "      <td>110.000000</td>\n",
       "      <td>1.000000</td>\n",
       "      <td>1.000000</td>\n",
       "      <td>1.000000</td>\n",
       "    </tr>\n",
       "    <tr>\n",
       "      <th>50%</th>\n",
       "      <td>4.158785e+07</td>\n",
       "      <td>8.055937e+07</td>\n",
       "      <td>53.344154</td>\n",
       "      <td>-6.258841</td>\n",
       "      <td>124.000000</td>\n",
       "      <td>2.000000</td>\n",
       "      <td>6.000000</td>\n",
       "      <td>1.000000</td>\n",
       "    </tr>\n",
       "    <tr>\n",
       "      <th>75%</th>\n",
       "      <td>8.388324e+17</td>\n",
       "      <td>2.264616e+08</td>\n",
       "      <td>53.357780</td>\n",
       "      <td>-6.233503</td>\n",
       "      <td>140.000000</td>\n",
       "      <td>4.000000</td>\n",
       "      <td>28.000000</td>\n",
       "      <td>3.000000</td>\n",
       "    </tr>\n",
       "    <tr>\n",
       "      <th>max</th>\n",
       "      <td>1.045709e+18</td>\n",
       "      <td>5.504933e+08</td>\n",
       "      <td>53.623240</td>\n",
       "      <td>-6.051490</td>\n",
       "      <td>45703.000000</td>\n",
       "      <td>1125.000000</td>\n",
       "      <td>1466.000000</td>\n",
       "      <td>84.000000</td>\n",
       "    </tr>\n",
       "  </tbody>\n",
       "</table>\n",
       "</div>"
      ],
      "text/plain": [
       "                 id       host_id     latitude    longitude         price  \\\n",
       "count  9.020000e+03  9.020000e+03  9020.000000  9020.000000   9020.000000   \n",
       "mean   3.534469e+17  1.541454e+08    53.345827    -6.255699    168.425831   \n",
       "std    4.264895e+17  1.646165e+08     0.046197     0.063016    553.539762   \n",
       "min    1.484200e+04  4.398400e+04    53.207663    -6.498946     15.000000   \n",
       "25%    2.038340e+07  2.959183e+07    53.327808    -6.278165    110.000000   \n",
       "50%    4.158785e+07  8.055937e+07    53.344154    -6.258841    124.000000   \n",
       "75%    8.388324e+17  2.264616e+08    53.357780    -6.233503    140.000000   \n",
       "max    1.045709e+18  5.504933e+08    53.623240    -6.051490  45703.000000   \n",
       "\n",
       "       minimum_nights  number_of_reviews  calculated_host_listings_count  \n",
       "count     9020.000000        9020.000000                     9020.000000  \n",
       "mean         6.250000          32.381596                        6.209091  \n",
       "std         30.776392          72.620441                       14.600766  \n",
       "min          1.000000           0.000000                        1.000000  \n",
       "25%          1.000000           1.000000                        1.000000  \n",
       "50%          2.000000           6.000000                        1.000000  \n",
       "75%          4.000000          28.000000                        3.000000  \n",
       "max       1125.000000        1466.000000                       84.000000  "
      ]
     },
     "execution_count": 86,
     "metadata": {},
     "output_type": "execute_result"
    }
   ],
   "source": [
    "listings_24.describe()"
   ]
  },
  {
   "cell_type": "markdown",
   "id": "f45a138f-6445-494f-b0c9-04176940e412",
   "metadata": {},
   "source": [
    "## Exporting"
   ]
  },
  {
   "cell_type": "code",
   "execution_count": 88,
   "id": "017949f3-498d-4462-860b-8ea2f5f1917d",
   "metadata": {},
   "outputs": [],
   "source": [
    "listings_23.to_csv(os.path.join(path, '01 Data','Prepared Data', 'June 2023', 'listings_23_clean.csv'))"
   ]
  },
  {
   "cell_type": "code",
   "execution_count": 89,
   "id": "9c84e64f-604e-47a4-9209-d6c77077812c",
   "metadata": {},
   "outputs": [],
   "source": [
    "listings_24.to_csv(os.path.join(path, '01 Data','Prepared Data', 'March 2024', 'listings_24_clean.csv'))"
   ]
  },
  {
   "cell_type": "code",
   "execution_count": 90,
   "id": "32544a46-8435-418c-b1dd-c3448a5f364e",
   "metadata": {},
   "outputs": [],
   "source": [
    "reviews_23.to_csv(os.path.join(path, '01 Data','Prepared Data', 'June 2023', 'reviews_23_clean.csv'))"
   ]
  },
  {
   "cell_type": "code",
   "execution_count": 91,
   "id": "233013a3-d539-4fda-a85e-7f268045c721",
   "metadata": {},
   "outputs": [],
   "source": [
    "reviews_24.to_csv(os.path.join(path, '01 Data','Prepared Data', 'March 2024', 'reviews_24_clean.csv'))"
   ]
  },
  {
   "cell_type": "code",
   "execution_count": null,
   "id": "1e01a93e-c96d-4f73-a7f9-0268c4944d64",
   "metadata": {},
   "outputs": [],
   "source": []
  }
 ],
 "metadata": {
  "kernelspec": {
   "display_name": "Python 3 (ipykernel)",
   "language": "python",
   "name": "python3"
  },
  "language_info": {
   "codemirror_mode": {
    "name": "ipython",
    "version": 3
   },
   "file_extension": ".py",
   "mimetype": "text/x-python",
   "name": "python",
   "nbconvert_exporter": "python",
   "pygments_lexer": "ipython3",
   "version": "3.11.7"
  }
 },
 "nbformat": 4,
 "nbformat_minor": 5
}
